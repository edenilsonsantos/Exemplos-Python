{
 "cells": [
  {
   "attachments": {},
   "cell_type": "markdown",
   "metadata": {},
   "source": [
    "# Ler String XML"
   ]
  },
  {
   "cell_type": "code",
   "execution_count": 1,
   "metadata": {},
   "outputs": [
    {
     "name": "stdout",
     "output_type": "stream",
     "text": [
      "15/12/2022\n",
      "joao\n",
      "111-222\n",
      "sim\n"
     ]
    }
   ],
   "source": [
    "# Esta biblioteca faz converção do xml para dicionário, e facilita o acesso as tags.\n",
    "import xmltodict\n",
    "\n",
    "# No exemplo aqui, o data é um atributo da tag cadastro, para acessar atributos use \"@nome_atributo\"\n",
    "xml_file = '''<cadastro data='15/12/2022'>\n",
    "                <pf>\n",
    "                    <nome>joao</nome>\n",
    "                    <telefone>111-222</telefone>\n",
    "                    <status ativo='sim'></status>\n",
    "                </pf>\n",
    "                <pf>\n",
    "                    <nome>jose</nome>\n",
    "                    <telefone>555-555</telefone>\n",
    "                    <status ativo='sim'></status>\n",
    "                </pf>\n",
    "                \n",
    "            </cadastro>\n",
    "            '''\n",
    "\n",
    "\n",
    "doc = xmltodict.parse(xml_file)\n",
    "print(doc['cadastro']['@data'])\n",
    "print(doc['cadastro']['pf'][0]['nome'])\n",
    "print(doc['cadastro']['pf'][0]['telefone'])\n",
    "print(doc['cadastro']['pf'][0]['status']['@ativo'])\n"
   ]
  }
 ],
 "metadata": {
  "kernelspec": {
   "display_name": "Python 3",
   "language": "python",
   "name": "python3"
  },
  "language_info": {
   "codemirror_mode": {
    "name": "ipython",
    "version": 3
   },
   "file_extension": ".py",
   "mimetype": "text/x-python",
   "name": "python",
   "nbconvert_exporter": "python",
   "pygments_lexer": "ipython3",
   "version": "3.8.2 (tags/v3.8.2:7b3ab59, Feb 25 2020, 23:03:10) [MSC v.1916 64 bit (AMD64)]"
  },
  "orig_nbformat": 4,
  "vscode": {
   "interpreter": {
    "hash": "9650cb4e16cdd4a8e8e2d128bf38d875813998db22a3c986335f89e0cb4d7bb2"
   }
  }
 },
 "nbformat": 4,
 "nbformat_minor": 2
}
