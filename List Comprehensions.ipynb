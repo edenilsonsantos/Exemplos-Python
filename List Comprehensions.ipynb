### Obter os valores da tabuada
tb = [str(f'{i} x {j} = {i*j}') if j != 11 else '\n' for i in range(1,10) for j in range(1,12)]
for x in tb: print(x)
### Obter os numeros pares da lista
L1 = [1,2,3,4,5,6] 
L2 = [x for x in L1 if x % 2 == 0]
print(L2)

### Varios ifs junto com for 
L1 = list('abcdefghijk')
L2 = ['AA' if x == 'a' else 'BB' if x == 'b' else 'GG' if x == 'g' else x for x in L1]
print(L2)
### Remover duplicados da lista, manter ordem original
L1 = []
L2 = [6,5,4,7,8,9,6,5,4,1,2,3,3,2,1]
[L1.append(x) for x in L2 if x not in L1]
print(L1)
### Remover duplicados, e ordenar os valores da lista 
l5 = []
l6 = [6,5,4,7,8,9,6,5,4,1,2,3,3,2,1]
l5 = list(set(l6))
print(l5)
