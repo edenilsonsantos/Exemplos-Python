{
 "cells": [
  {
   "cell_type": "markdown",
   "metadata": {},
   "source": [
    "## Versionamento com: \n",
    "- python \n",
    "- gitpython\n",
    "- jupyter\n",
    "\n",
    "### requisitos\n",
    "- python 3.11\n",
    "- pip install gitpython"
   ]
  },
  {
   "cell_type": "code",
   "execution_count": null,
   "metadata": {},
   "outputs": [],
   "source": [
    "# Bibliotecas\n",
    "from git import Repo\n",
    "import os"
   ]
  },
  {
   "cell_type": "code",
   "execution_count": null,
   "metadata": {},
   "outputs": [],
   "source": [
    "# Funções\n",
    "def set_path_atual_como_repositorio():\n",
    "    repo_path = os.path.realpath('.')\n",
    "    repo = Repo(repo_path)\n",
    "    if not repo.bare: print(f\"Repositório encontrado: {repo_path}\")\n",
    "    else: print(\"Erro: Diretório não contém um repositório Git.\")"
   ]
  },
  {
   "cell_type": "code",
   "execution_count": null,
   "metadata": {},
   "outputs": [],
   "source": [
    "set_path_atual_como_repositorio()"
   ]
  },
  {
   "cell_type": "code",
   "execution_count": null,
   "metadata": {},
   "outputs": [
    {
     "name": "stdout",
     "output_type": "stream",
     "text": [
      "Repositório encontrado: C:\\Users\\santo\\OneDrive\\Documentos\\clones_git\\Exemplos-Python\n"
     ]
    }
   ],
   "source": []
  }
 ],
 "metadata": {
  "kernelspec": {
   "display_name": "base",
   "language": "python",
   "name": "python3"
  },
  "language_info": {
   "codemirror_mode": {
    "name": "ipython",
    "version": 3
   },
   "file_extension": ".py",
   "mimetype": "text/x-python",
   "name": "python",
   "nbconvert_exporter": "python",
   "pygments_lexer": "ipython3",
   "version": "3.12.7"
  }
 },
 "nbformat": 4,
 "nbformat_minor": 2
}
