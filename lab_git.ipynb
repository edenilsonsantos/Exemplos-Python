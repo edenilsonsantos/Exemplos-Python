{
 "cells": [
  {
   "cell_type": "markdown",
   "metadata": {},
   "source": [
    "Versionamento git: requisitos\n",
    "- python 3.11\n",
    "- pip install gitpython"
   ]
  },
  {
   "cell_type": "markdown",
   "metadata": {},
   "source": [
    "## Bibliotecas"
   ]
  },
  {
   "cell_type": "code",
   "execution_count": null,
   "metadata": {},
   "outputs": [],
   "source": [
    "\n",
    "from git import Repo\n",
    "import os, time\n",
    "import pandas as pd"
   ]
  },
  {
   "cell_type": "markdown",
   "metadata": {},
   "source": [
    "## Funções"
   ]
  },
  {
   "cell_type": "code",
   "execution_count": null,
   "metadata": {},
   "outputs": [],
   "source": [
    "\n",
    "def set_path_current_repository() -> Repo:\n",
    "    repo_path = os.path.realpath('.')\n",
    "    repo = Repo(repo_path)\n",
    "    if not repo.bare: print(f\"Repositório encontrado: {repo_path}\")\n",
    "    else: print(\"Erro: Diretório não contém um repositório Git.\")\n",
    "    return repo\n",
    "\n",
    "\n",
    "def add_all_files_to_commit(repo:Repo) :\n",
    "    repo.git.add(all=True)\n",
    "\n",
    "\n",
    "def commit_with_message(commit_message:str, repo:Repo):\n",
    "    repo.index.commit(commit_message)\n",
    "\n",
    "\n",
    "def git_push_all(repo:Repo):\n",
    "    origin = repo.remote(name='origin')\n",
    "    origin.push()\n",
    "\n",
    "\n",
    "def print_last_commits(repo:Repo, max:int=10) -> pd.DataFrame:\n",
    "    prev_commits = list(repo.iter_commits(all=True, max_count=max))\n",
    "    last_commits = []\n",
    "    for x in range(len(prev_commits)):\n",
    "        commit_item = {\n",
    "            'data_commit': str(prev_commits[x].committed_datetime)[:10],\n",
    "            'msg_commit': str(prev_commits[x].message),\n",
    "            'autor_commit': str(prev_commits[x].author)\n",
    "        }\n",
    "        last_commits.append(commit_item)\n",
    "    df = pd.DataFrame(last_commits)\n",
    "    return df\n",
    "\n",
    "\n",
    "def print_files_from_git(repo:Repo, level=0):\n",
    "    root = repo.head.commit.tree\n",
    "    for entry in root:\n",
    "        print(f'{\"-\" * 4 * level}| {entry.path}')\n",
    "        if entry.type == \"tree\":\n",
    "            print_files_from_git(entry, level + 1)\n",
    "\n",
    "\n",
    "def consultar_tags(repo:Repo):\n",
    "    todas_tags = list(repo.tags)\n",
    "    if len(todas_tags) > 0:\n",
    "        ultima_tag = todas_tags[-1]\n",
    "        return str(ultima_tag.name)\n",
    "    else:\n",
    "        return str('nenhuma tag criada')\n",
    "    \n",
    "\n",
    "def set_initial_branchs(repo:Repo):\n",
    "    all_branchs = [x.name for x in repo.branches]\n",
    "    if 'main' not in all_branchs:\n",
    "        repo.git.execute('git checkout -b main')\n",
    "\n",
    "    if 'homolog' not in all_branchs:\n",
    "        repo.git.execute('git checkout -b homolog')\n",
    "        \n",
    "    repo.git.checkout(\"homolog\")\n",
    "\n",
    "    time.sleep(2)\n",
    "    repo.git.execute(f'git config init.defaultBranch main')\n",
    "    repo.git.execute(f'git branch --set-upstream-to=origin/main main')\n",
    "    repo.git.execute(f'git branch --set-upstream-to=origin/homolog homolog')\n",
    "\n",
    "\n",
    "def criar_tag_e_atualizar_online(repo:Repo, tag_version:str, tag_message:str):\n",
    "    repo.git.execute(f'git tag -a {tag_version} -m \"{tag_message}\"')\n",
    "    repo.git.execute(f'git push origin {tag_version}')\n",
    "\n",
    "\n",
    "def set_globals_config_git(repo:Repo):\n",
    "    usuario_logado = 'edenilsonsantos' # os.getenv('username')\n",
    "    email = 'santoeen@gmail.com' # f'{usuario_logado}@gmail.com'\n",
    "\n",
    "    repo.git.execute(f'git config --global user.name \"{usuario_logado}\"')\n",
    "    repo.git.execute(f'git config --global user.email \"{email}\"')\n",
    "\n",
    "\n",
    "def commit_current_branch(repo:Repo, msg_commit:str, push_all=False):\n",
    "    add_all_files_to_commit(repo)\n",
    "    commit_with_message(msg_commit, repo)\n",
    "    current_branch = str(repo.active_branch.name)\n",
    "    repo.git.checkout(current_branch)\n",
    "    time.sleep(3)\n",
    "    if push_all:\n",
    "        git_push_all(repo)\n",
    "\n",
    "\n",
    "\n",
    "def create_new_feature(repo:Repo, feature_name:str='dev'):\n",
    "    new_branch = repo.create_head(feature_name)\n",
    "    new_branch.checkout()\n",
    "\n",
    "\n",
    "def finish_feature(repo:Repo, feature_name:str='dev', merge_to:str='homolog', delete_feature:bool=True, push:bool=True):\n",
    "    repo.git.checkout(merge_to) # esta sera a branch destino\n",
    "    repo.git.merge(feature_name) # esta sera a branch origem\n",
    "    if push:\n",
    "        repo.git.push(\"origin\", merge_to)\n",
    "    if (delete_feature) and (feature_name not in ['main', 'homolog']):\n",
    "        repo.git.branch(\"-d\", feature_name)\n",
    "\n",
    "\n",
    "\n",
    "def create_release(repo:Repo, release_version:str='1.0.0'):\n",
    "    release_branch = repo.create_head(f\"release-{release_version}\")\n",
    "    release_branch.checkout()\n",
    "\n",
    "\n",
    "def finish_release(repo:Repo, release_version:str='1.0.0', delete_release:bool=True, push_all:bool=True):\n",
    "    release_name = f\"release-{release_version}\"\n",
    "    repo.git.checkout(\"main\")\n",
    "    repo.git.merge(release_name)\n",
    "    repo.create_tag(release_version)\n",
    "    repo.git.checkout(\"homolog\")\n",
    "    repo.git.merge(release_name)\n",
    "    \n",
    "    if (delete_release) and (release_name not in ['main', 'homolog']):\n",
    "        repo.git.branch(\"-d\", release_name)\n",
    "\n",
    "    if push_all:\n",
    "        for branch in repo.branches:\n",
    "            branch.checkout()\n",
    "            repo.git.push(\"origin\", str(branch.name))  # Push para o remoto \"origin\"\n",
    "\n",
    "\n",
    "def merge_branch(repo:Repo, branch_origem:str, branch_destino:str):\n",
    "    all_branchs = [x.name for x in repo.branches]\n",
    "    if branch_destino not in all_branchs:\n",
    "        repo.git.execute(f'git checkout -b {branch_destino}')\n",
    "    repo.git.checkout(branch_destino)\n",
    "    repo.git.merge(branch_origem)\n",
    "    repo.git.push(\"origin\", branch_destino)\n",
    "\n",
    "\n",
    "\n",
    "def delete_branch(repo:Repo, branch_name:str):\n",
    "    atual = str(repo.active_branch.name)\n",
    "    # fazer checkout, sair da branch que pretende excluir\n",
    "    if branch_name == atual:\n",
    "        all_branchs = [x.name for x in repo.branches]\n",
    "        for x in all_branchs:\n",
    "            if x not in branch_name:\n",
    "                repo.git.checkout(x)\n",
    "    repo.git.branch(\"-d\", branch_name) # deletar a branch\n",
    "\n",
    "\n",
    "\n"
   ]
  },
  {
   "cell_type": "markdown",
   "metadata": {},
   "source": [
    "## Execução"
   ]
  },
  {
   "cell_type": "code",
   "execution_count": null,
   "metadata": {},
   "outputs": [
    {
     "name": "stdout",
     "output_type": "stream",
     "text": [
      "v1.0.0\n"
     ]
    }
   ],
   "source": [
    "# Preparar ambiente\n",
    "repo = set_path_current_repository()\n",
    "set_globals_config_git(repo)\n",
    "set_initial_branchs(repo)"
   ]
  },
  {
   "cell_type": "code",
   "execution_count": null,
   "metadata": {},
   "outputs": [],
   "source": [
    "# Enviar commit e push all, branch atual\n",
    "commit_current_branch(repo, 'add novas funcoes de comandos git', push_all=True)"
   ]
  },
  {
   "cell_type": "code",
   "execution_count": null,
   "metadata": {},
   "outputs": [],
   "source": [
    "# Criar feature\n",
    "create_new_feature(repo, 'dev')"
   ]
  },
  {
   "cell_type": "code",
   "execution_count": null,
   "metadata": {},
   "outputs": [],
   "source": [
    "commit_current_branch(repo, 'versao testes feature dev', push_all=True)\n",
    "finish_feature(repo, 'dev')"
   ]
  },
  {
   "cell_type": "code",
   "execution_count": null,
   "metadata": {},
   "outputs": [],
   "source": []
  },
  {
   "cell_type": "code",
   "execution_count": null,
   "metadata": {},
   "outputs": [],
   "source": [
    "\n",
    "\n",
    "\n",
    "\n",
    "\n"
   ]
  },
  {
   "cell_type": "code",
   "execution_count": null,
   "metadata": {},
   "outputs": [
    {
     "data": {
      "text/plain": [
       "[<git.Head \"refs/heads/homolog\">, <git.Head \"refs/heads/main\">]"
      ]
     },
     "execution_count": 24,
     "metadata": {},
     "output_type": "execute_result"
    }
   ],
   "source": []
  }
 ],
 "metadata": {
  "kernelspec": {
   "display_name": "base",
   "language": "python",
   "name": "python3"
  },
  "language_info": {
   "codemirror_mode": {
    "name": "ipython",
    "version": 3
   },
   "file_extension": ".py",
   "mimetype": "text/x-python",
   "name": "python",
   "nbconvert_exporter": "python",
   "pygments_lexer": "ipython3",
   "version": "3.12.7"
  }
 },
 "nbformat": 4,
 "nbformat_minor": 2
}
