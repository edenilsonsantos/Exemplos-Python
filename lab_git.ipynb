{
 "cells": [
  {
   "cell_type": "markdown",
   "metadata": {},
   "source": [
    "## Versionamento com: \n",
    "- python \n",
    "- gitpython\n",
    "- jupyter\n",
    "\n",
    "### requisitos\n",
    "- python 3.11\n",
    "- pip install gitpython"
   ]
  },
  {
   "cell_type": "code",
   "execution_count": 80,
   "metadata": {},
   "outputs": [],
   "source": [
    "# Bibliotecas\n",
    "from git import Repo\n",
    "import os, time\n",
    "from datetime import date, datetime\n",
    "import pandas as pd"
   ]
  },
  {
   "cell_type": "code",
   "execution_count": 98,
   "metadata": {},
   "outputs": [],
   "source": [
    "# Funções\n",
    "def set_path_atual_como_repositorio() -> Repo:\n",
    "    repo_path = os.path.realpath('.')\n",
    "    repo = Repo(repo_path)\n",
    "    if not repo.bare: print(f\"Repositório encontrado: {repo_path}\")\n",
    "    else: print(\"Erro: Diretório não contém um repositório Git.\")\n",
    "    return repo\n",
    "\n",
    "\n",
    "def add_all_files_to_commit(repo:Repo) -> Repo:\n",
    "    # Adicionar arquivos ao índice (staging area)\n",
    "    repo.git.add(all=True)\n",
    "    return repo\n",
    "\n",
    "\n",
    "def commit_with_message(commit_message:str, repo:Repo) -> Repo:\n",
    "    # Fazer commit\n",
    "    repo.index.commit(commit_message)\n",
    "    return repo\n",
    "\n",
    "\n",
    "def git_push_all(repo:Repo) -> Repo:\n",
    "    origin = repo.remote(name='origin')\n",
    "    origin.push()\n",
    "    return repo\n",
    "\n",
    "\n",
    "def print_last_commits(repo:Repo, max:int=10) -> pd.DataFrame:\n",
    "    prev_commits = list(repo.iter_commits(all=True, max_count=max))\n",
    "    last_commits = []\n",
    "    for x in range(len(prev_commits)):\n",
    "        commit_item = {\n",
    "            'data_commit': str(prev_commits[x].committed_datetime)[:10],\n",
    "            'msg_commit': str(prev_commits[x].message),\n",
    "            'autor_commit': str(prev_commits[x].author)\n",
    "        }\n",
    "        last_commits.append(commit_item)\n",
    "    df = pd.DataFrame(last_commits)\n",
    "    print(df)\n",
    "    return df\n",
    "\n",
    "\n",
    "def print_files_from_git(repo:Repo, level=0):\n",
    "    root = repo.head.commit.tree\n",
    "    for entry in root:\n",
    "        print(f'{\"-\" * 4 * level}| {entry.path}')\n",
    "        if entry.type == \"tree\":\n",
    "            print_files_from_git(entry, level + 1)\n",
    "\n",
    "\n",
    "def consultar_tags(repo:Repo):\n",
    "    todas_tags = list(repo.tags)\n",
    "    if len(todas_tags) > 0:\n",
    "        ultima_tag = todas_tags[-1]\n",
    "        print(ultima_tag)\n",
    "    else:\n",
    "        print('nenhuma tag criada')\n",
    "\n",
    "\n",
    "def criar_tag_e_atualizar_online(repo:Repo, tag_version:str, tag_message:str) -> Repo:\n",
    "    repo.git.execute(f'git tag -a {tag_version} -m \"{tag_message}\"')\n",
    "    repo.git.execute(f'git push origin {tag_version}')\n",
    "    return repo\n",
    "\n",
    "\n",
    "\n"
   ]
  },
  {
   "cell_type": "code",
   "execution_count": null,
   "metadata": {},
   "outputs": [],
   "source": [
    "# Preparar ambiente\n",
    "usuario_logado = 'edenilsonsantos' # os.getenv('username')\n",
    "email = 'santoeen@gmail.com' # f'{usuario_logado}@gmail.com'\n",
    "repo = set_path_atual_como_repositorio()\n",
    "repo.git.execute(f'git config --global user.name \"{usuario_logado}\"')\n",
    "repo.git.execute(f'git config --global user.email \"{email}\"')\n",
    "\n",
    "try: repo.git.execute('git checkout -b main')\n",
    "except: repo.git.checkout(\"main\")\n",
    "time.sleep(5)\n",
    "try: repo.git.execute('git checkout -b homolog')\n",
    "except: repo.git.checkout(\"homolog\")\n",
    "\n",
    "repo.git.execute(f'git config init.defaultBranch main')\n",
    "repo.git.execute(f'git branch --set-upstream-to=origin/main main')\n",
    "repo.git.execute(f'git branch --set-upstream-to=origin/homolog homolog')\n",
    "\n"
   ]
  },
  {
   "cell_type": "code",
   "execution_count": 87,
   "metadata": {},
   "outputs": [],
   "source": [
    "# Add commit e Push All,  branch atual\n",
    "repo = add_all_files_to_commit(repo)\n",
    "repo = commit_with_message(\"Atualizando os arquivos com GitPython\", repo)\n",
    "repo.git.checkout(\"homolog\")\n",
    "time.sleep(3)\n",
    "repo = git_push_all(repo)"
   ]
  },
  {
   "cell_type": "code",
   "execution_count": 99,
   "metadata": {},
   "outputs": [
    {
     "name": "stdout",
     "output_type": "stream",
     "text": [
      "v1.0.0\n"
     ]
    }
   ],
   "source": [
    "\n",
    "consultar_tags(repo)\n"
   ]
  }
 ],
 "metadata": {
  "kernelspec": {
   "display_name": "base",
   "language": "python",
   "name": "python3"
  },
  "language_info": {
   "codemirror_mode": {
    "name": "ipython",
    "version": 3
   },
   "file_extension": ".py",
   "mimetype": "text/x-python",
   "name": "python",
   "nbconvert_exporter": "python",
   "pygments_lexer": "ipython3",
   "version": "3.12.7"
  }
 },
 "nbformat": 4,
 "nbformat_minor": 2
}
