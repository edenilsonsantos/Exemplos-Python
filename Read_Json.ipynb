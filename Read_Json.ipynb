{
 "cells": [
  {
   "attachments": {},
   "cell_type": "markdown",
   "metadata": {},
   "source": [
    "### Read Json File"
   ]
  },
  {
   "cell_type": "code",
   "execution_count": null,
   "metadata": {},
   "outputs": [],
   "source": [
    "###########################################################\n",
    "# Exemplo 1\n",
    "import json\n",
    "  \n",
    "# Opening JSON file\n",
    "f = open('data.json')\n",
    "  \n",
    "# returns JSON object as \n",
    "# a dictionary\n",
    "data = json.load(f)\n",
    "  \n",
    "# Iterating through the json\n",
    "# list\n",
    "for i in data['chave_aqui']:\n",
    "    print(i)\n",
    "  \n",
    "# Closing file\n",
    "f.close()\n",
    "\n",
    "\n",
    "###########################################################\n",
    "# Exemplo 2 \n",
    "import json\n",
    "\n",
    "f = open ('data.json', \"r\")\n",
    "  \n",
    "# Reading from file\n",
    "data = json.loads(f.read())\n",
    "  \n",
    "# Iterating through the json\n",
    "# list\n",
    "for i in data['chave_aqui']:\n",
    "    print(i)\n",
    "  \n",
    "# Closing file\n",
    "f.close()\n",
    "\n"
   ]
  },
  {
   "attachments": {},
   "cell_type": "markdown",
   "metadata": {},
   "source": [
    "### Read Json String"
   ]
  },
  {
   "cell_type": "code",
   "execution_count": 1,
   "metadata": {},
   "outputs": [
    {
     "name": "stdout",
     "output_type": "stream",
     "text": [
      "JSON string =  {'name': 'Bob', 'languages': 'English'}\n",
      "\n"
     ]
    }
   ],
   "source": [
    "######################################################\n",
    "# Exemplo 1\n",
    "import json\n",
    "  \n",
    "# JSON string\n",
    "a = '{\"name\": \"Bob\", \"languages\": \"English\"}'\n",
    "  \n",
    "# deserialize e convert para dicionario\n",
    "y = json.loads(a)\n",
    "  \n",
    "print(\"JSON string = \", y)\n",
    "print()\n",
    "\n",
    "######################################################\n",
    "# Exemplo 2 \n",
    "import json\n",
    "\n",
    "# some JSON:\n",
    "x = '{ \"name\":\"John\", \"age\":30, \"city\":\"New York\"}'\n",
    "\n",
    "# parse x:\n",
    "y = json.loads(x)\n",
    "\n",
    "# the result is a Python dictionary:\n",
    "print(y[\"age\"])\n",
    "  "
   ]
  },
  {
   "attachments": {},
   "cell_type": "markdown",
   "metadata": {},
   "source": [
    "### Imprimir Json Identado"
   ]
  },
  {
   "cell_type": "code",
   "execution_count": 4,
   "metadata": {},
   "outputs": [
    {
     "name": "stdout",
     "output_type": "stream",
     "text": [
      "{\n",
      "    \"name\": \"Bob\",\n",
      "    \"languages\": [\n",
      "        \"English\",\n",
      "        \"Portuguese\"\n",
      "    ],\n",
      "    \"numbers\": [\n",
      "        5,\n",
      "        2,\n",
      "        0,\n",
      "        8\n",
      "    ]\n",
      "}\n"
     ]
    }
   ],
   "source": [
    "import json\n",
    "\n",
    "json_string = '{\"name\": \"Bob\", \"languages\": [\"English\", \"Portuguese\"], \"numbers\": [5, 2, 0, 8]}'\n",
    "\n",
    "# Getting dictionary\n",
    "json_string = json.loads(json_string)\n",
    "\n",
    "# Pretty Printing JSON\n",
    "# print(json.dumps(json_string, indent = 4, sort_keys=True))\n",
    "print(json.dumps(json_string, indent = 4))"
   ]
  },
  {
   "attachments": {},
   "cell_type": "markdown",
   "metadata": {},
   "source": [
    "### Read Json - exemplo com chaves repetidas"
   ]
  },
  {
   "cell_type": "code",
   "execution_count": 8,
   "metadata": {},
   "outputs": [
    {
     "name": "stdout",
     "output_type": "stream",
     "text": [
      "joao silva 55555-5\n",
      "marcos paulo 33333-3\n"
     ]
    }
   ],
   "source": [
    "# Exemplo abaixo, a chave 'id', e a chave 'valor', se repetem.\n",
    "# Para obter os dados temos que saber iterar e navegar entre {[]}\n",
    "\n",
    "import json\n",
    "\n",
    "res = {'valor':'1111','valor':[[{'id':'5023', 'valor':'joao silva'},{'id':'5025', 'valor':'55555-5'}], \n",
    "                [{'id':'5023', 'valor':'marcos paulo'},{'id':'5025', 'valor':'33333-3'}]]\n",
    "       }\n",
    "\n",
    "# Quando quero acessar algo dentro de {},  eu passo a chave como texto ['valor']\n",
    "# exemplo res['valor']\n",
    "\n",
    "# Para ir avançando dentro do json e obter mais dados, vou entrando em mais niveis\n",
    "# quando quero acessar [], eu passo o indice como numero [0] \n",
    "# exemplo res['valor'][0][0]\n",
    "# exemplo res['valor'][0][1]\n",
    "# exemplo res['valor'][1][0]['valor']\n",
    "# exemplo res['valor'][1][1]['id']\n",
    "\n",
    "qtd = len(res['valor'])\n",
    "\n",
    "\n",
    "for pos in range(0, qtd):  \n",
    "    coluna_0 =  res['valor'][pos][0].get('valor')\n",
    "    coluna_1 =  res['valor'][pos][1].get('valor')\n",
    "    print(coluna_0,  coluna_1)"
   ]
  },
  {
   "cell_type": "code",
   "execution_count": null,
   "metadata": {},
   "outputs": [],
   "source": []
  }
 ],
 "metadata": {
  "kernelspec": {
   "display_name": "Python 3",
   "language": "python",
   "name": "python3"
  },
  "language_info": {
   "codemirror_mode": {
    "name": "ipython",
    "version": 3
   },
   "file_extension": ".py",
   "mimetype": "text/x-python",
   "name": "python",
   "nbconvert_exporter": "python",
   "pygments_lexer": "ipython3",
   "version": "3.8.2 (tags/v3.8.2:7b3ab59, Feb 25 2020, 23:03:10) [MSC v.1916 64 bit (AMD64)]"
  },
  "orig_nbformat": 4,
  "vscode": {
   "interpreter": {
    "hash": "9650cb4e16cdd4a8e8e2d128bf38d875813998db22a3c986335f89e0cb4d7bb2"
   }
  }
 },
 "nbformat": 4,
 "nbformat_minor": 2
}
