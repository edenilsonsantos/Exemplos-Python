{
 "cells": [
  {
   "attachments": {},
   "cell_type": "markdown",
   "metadata": {},
   "source": [
    "# Dicas da biblioteca selenium + python"
   ]
  },
  {
   "attachments": {},
   "cell_type": "markdown",
   "metadata": {},
   "source": [
    "### Importando módulos da biblioteca selenium"
   ]
  },
  {
   "cell_type": "code",
   "execution_count": null,
   "metadata": {},
   "outputs": [],
   "source": [
    "from selenium import webdriver\n",
    "from selenium.webdriver.common.by import By\n",
    "from selenium.webdriver.support.ui import WebDriverWait\n",
    "from selenium.webdriver.common.action_chains import ActionChains\n",
    "from selenium.webdriver.support import expected_conditions as ec\n",
    "from selenium.webdriver.support.ui import Select\n",
    "from selenium.webdriver.common.keys import Keys\n",
    "from selenium.webdriver.common.alert import Alert\n"
   ]
  },
  {
   "attachments": {},
   "cell_type": "markdown",
   "metadata": {},
   "source": [
    "### Configurando o browser, declare o WebDriver de sua escolha (chrome, edge, IE)"
   ]
  },
  {
   "cell_type": "code",
   "execution_count": null,
   "metadata": {},
   "outputs": [],
   "source": [
    "# coloque o webdriver na pasta script da instalação python, em seguida declare assim.\n",
    "driver = webdriver.Ie()\n",
    "driver = webdriver.Edge()\n",
    "driver = webdriver.Chrome()\n",
    "\n",
    "# ou informe um caminho personalizado para o webdriver, em seguida declare assim.\n",
    "driver = webdriver.Chrome(executable_path=r'C:/temp/chromedriver.exe')\n",
    "\n",
    "# abrir a url desejada\n",
    "driver.get('www.google.com.br')\n",
    "driver.maximize_window()\n\n",
    
    "# pip install webdriver-manager\n",
    "pip install --trusted-host pypi.python.org --trusted-host files.pythonhosted.org --trusted-host pypi.org pip webdriver-manager\n",
    "import time\n\n",

    "# ________________ Chrome __________________________\n",
    "from selenium import webdriver\n",
    "from selenium.webdriver.chrome.service import Service as ChromeService\n",
    "from webdriver_manager.chrome import ChromeDriverManager\n",
    "driver = webdriver.Chrome(service=(ChromeService(ChromeDriverManager().install())))\n",
    "driver.get('http://www.google.com.br')\n",
    "time.sleep(30)\n\n",

    "# ________________ Edge __________________________\n",
    "from selenium import webdriver\n",
    "from selenium.webdriver.edge.service\n",
    "import Service as EdgeService\n",
    "from webdriver_manager.microsoft import EdgeChromiumDriver\n",
    "driver = webdriver.Edge(service=(EdgeService(EdgeChromiumDriver().install())))\n",
    "driver.get('http://www.google.com.br')\n",
    "time.sleep(30)\n\n",
    
    
    "# ________________ Edge usando options__________________________\n",
    "from selenium import webdriver\n",
    "from selenium.webdriver.edge.service\n",
    "import Service as EdgeService\n",
    "from webdriver_manager.microsoft import EdgeChromiumDriver\n",
    "from selenium.webdriver import EdgeOptions \n",
    "driver = webdriver.Edge(service=(EdgeService(EdgeChromiumDriver().install())), options=configuracoes)\n",
    "driver.get('http://www.google.com.br')\n",
    "time.sleep(30)\n\n"
   ]
  },
  {
   "attachments": {},
   "cell_type": "markdown",
   "metadata": {},
   "source": [
    "### Esperando elemento da página aparecer na tela"
   ]
  },
  {
   "cell_type": "code",
   "execution_count": null,
   "metadata": {},
   "outputs": [],
   "source": [
    "driver = webdriver.Chrome()\n",
    "int_max_espera = 30 # espera até 30 segundos, se encontrar o elemento antes vai continuar, se expirar o tempo vai dar exeption\n",
    "\n",
    "botao_esperado = WebDriverWait(driver, int_max_espera).until(ec.visibility_of_element_located((By.XPATH, '//*[@id=\"new_blob\"]/div/div[1]/span/span[3]/a')))\n",
    "botao_exist = encontrou = str(botao_esperado.is_displayed())\n",
    "print(botao_exist)\n"
   ]
  },
  {
   "attachments": {},
   "cell_type": "markdown",
   "metadata": {},
   "source": [
    "### Clique em elemento da página"
   ]
  },
  {
   "cell_type": "code",
   "execution_count": null,
   "metadata": {},
   "outputs": [],
   "source": [
    "driver = webdriver.Chrome()\n",
    "\n",
    "# exemplo 1 - localiza o botao pelo nome do elemento (By.NAME, 'string nome')\n",
    "driver.find_element(By.NAME, 'Submit').click()\n",
    "\n",
    "# exemplo 2 - localiza o botao pelo ID do elemento (By.ID, 'btn_submit')\n",
    "driver.find_element(By.ID, 'btn_submit').click()\n",
    "\n",
    "# exemplo 3 - localiza o botao pelo XPATH do elemento (By.XPATH, 'caminho do html')\n",
    "driver.find_element(By.XPATH, '/html/body/div[2]/button').click()\n"
   ]
  },
  {
   "attachments": {},
   "cell_type": "markdown",
   "metadata": {},
   "source": [
    "### Escrever em elemento da página, exemplo caixa de texto."
   ]
  },
  {
   "cell_type": "code",
   "execution_count": null,
   "metadata": {},
   "outputs": [],
   "source": [
    "driver = webdriver.Chrome()\n",
    "numero_cpf = '123.456.789-77'\n",
    "\n",
    "# exemplo 1 - localiza o elemento pelo nome (By.NAME, 'string nome')\n",
    "driver.find_element(By.NAME, 'cadastro_cpf').send_keys(numero_cpf)\n",
    "\n",
    "# exemplo 2 - localiza o elemento pelo ID (By.ID, 'input_cpf')\n",
    "driver.find_element(By.ID, 'input_cpf').send_keys('123.456.789-77')\n",
    "\n",
    "# exemplo 3 - localiza o elemento pelo XPATH (By.XPATH, 'caminho do html')\n",
    "driver.find_element(By.XPATH, '//*[@id=\"ak-main-content\"]div[1]/div[2]/div[1]/div/div/input').send_keys(numero_cpf)\n",
    "\n",
    "# exemplo 4 - limpar caixa de texto\n",
    "driver.find_element(By.ID, 'input_cpf').clear()\n"
   ]
  },
  {
   "attachments": {},
   "cell_type": "markdown",
   "metadata": {},
   "source": [
    "### Xpath Personalizados"
   ]
  },
  {
   "cell_type": "code",
   "execution_count": null,
   "metadata": {},
   "outputs": [],
   "source": [
    "driver = webdriver.Chrome()\n",
    "\n",
    "# exemplo 1 - localiza o elemento cujo a TAG 'input' contenha um attibuto ALT='Pesquisar' (<input Alt='Pesquisar'>Enviar pesquisa</input>)\n",
    "driver.find_element(By.XPATH, (f\"//input[contains(@alt, 'Pesquisar')]\")).click()\n",
    "\n",
    "# exemplo 2 - localiza o elemento cujo a TAG 'a' contenha no texto 'Funcionalidades' (<a href:http://.......>Funcionalizades</a>)\n",
    "driver.find_element(By.XPATH, (f\"//a[contains(text(),'Funcionalidades')]\")).click()\n",
    "\n",
    "# exemplo 3 - Select Item em Lista de seleção por Xpath\n",
    "menu_list = driver.find_element(By.XPATH, (f\"//ul//li[contains(text(), 'Nota Fiscal Serviço')]\"))\n",
    "menu_list.click()\n",
    "\n",
    "nome_tipo_solicitacao = 'Nota Fiscal Material'\n",
    "menu_list = driver.find_element(By.XPATH, (f\"//ul//li[contains(text(), '{nome_tipo_solicitacao}')]\"))\n",
    "menu_list.click()\n",
    "\n",
    "menu_list = driver.find_element(By.XPATH, (f\"//select[@id='descricaoAjuste']//option[contains(text(), 'texto visivel aqui')]\"))\n",
    "menu_list.send_keys(menu_list.text)\n",
    "menu_list.send_keys(Keys.TAB)\n",
    "\n",
    "elemento = '//*[@id=\"__xmlview2--inpCentroCusto__vhi\"]'\n",
    "seletor= Select(driver.find_element(By.XPATH , elemento))\n",
    "seletor.select_by_visible_text('texto visivel aqui')\n",
    "seletor.send_keys(Keys.TAB)\n",
    "\n",
    "\n",
    "# Outros Exemplos:\n",
    "driver.find_element(By.XPATH, \"//select[@name='codBloqueioCartao']\").click()\n",
    "driver.find_element(By.XPATH, \"//img[contains(@alt, 'Plasticos')]\").click()\n",
    "driver.find_element(By.XPATH, \"//a[text()='prosseguir']\").click()\n",
    "driver.find_element(By.XPATH, \"//img[contains(@alt, 'Plasticos')]\").click()\n",
    "\n",
    "   "
   ]
  },
  {
   "attachments": {},
   "cell_type": "markdown",
   "metadata": {},
   "source": [
    "### Capturar texto de um elemento da página"
   ]
  },
  {
   "cell_type": "code",
   "execution_count": null,
   "metadata": {},
   "outputs": [],
   "source": [
    "driver = webdriver.Chrome()\n",
    "\n",
    "texto = driver.find_element(By.XPATH, '//*[@id=\"akcontent\"]div[1]/div[2]/div/input').get_attribute(\"innerHTML\")\n",
    "print(texto)\n",
    "\n",
    "texto = driver.find_element(By.XPATH, '//*[@id=\"akcontent\"]div[1]/div[2]/div/input').text\n",
    "print(texto)\n",
    "\n",
    "texto = driver.find_element(By.XPATH, '//*[@id=\"akcontent\"]div[1]/div[2]/div/input').get_attribute('value')\n",
    "print(texto)\n",
    "\n",
    "texto = driver.find_element(By.XPATH, '//*[@id=\"akcontent\"]div[1]/div[2]/div/input').get_attribute(\"innerHTML\")[0]\n",
    "print(texto)\n"
   ]
  },
  {
   "attachments": {},
   "cell_type": "markdown",
   "metadata": {},
   "source": [
    "### Validar se checkbox ja está marcado"
   ]
  },
  {
   "cell_type": "code",
   "execution_count": null,
   "metadata": {},
   "outputs": [],
   "source": [
    "driver = webdriver.Chrome()\n",
    "\n",
    "campo_checkbox = driver.find_element(By.XPATH, '//*[@id=\"akcontent\"]div[1]/div[2]/div/input').is_selected()\n",
    "print(campo_checkbox)\n"
   ]
  },
  {
   "attachments": {},
   "cell_type": "markdown",
   "metadata": {},
   "source": [
    "### Consultando Propriedades do Campo\n"
   ]
  },
  {
   "cell_type": "code",
   "execution_count": null,
   "metadata": {},
   "outputs": [],
   "source": [
    "driver = webdriver.Chrome()\n",
    "\n",
    "elemento = '//*[@id=\"__xmlview2--inpBanco-inner\"]'\n",
    "campo_banco =  driver.find_element(By.XPATH, elemento)\n",
    "\n",
    "v1 = campo_banco.get_attribute('value')\n",
    "v2 = campo_banco.get_property('value')\n",
    "v3 = campo_banco.get_dom_attribute('value')\n",
    "v4 = campo_banco.is_enabled()\n",
    "v5 = campo_banco.is_selected()\n",
    "v6 = campo_banco.is_displayed()\n",
    "v7 = campo_banco.location\n",
    "v8 = campo_banco.aria_role\n",
    "v9 = campo_banco.screenshot('c:\\\\temp\\\\banco.png')\n",
    "\n",
    "print(f' v1: {v1} \\n v2: {v2} \\n v3: {v3} \\n v4: {v4} \\n v5: {v5} \\n v6: {v6} \\n v7: {v7} \\n v8: {v8} \\n v9: {v9}')\n"
   ]
  },
  {
   "attachments": {},
   "cell_type": "markdown",
   "metadata": {},
   "source": [
    "### Trocar de Iframe ou de Janela WEB"
   ]
  },
  {
   "cell_type": "code",
   "execution_count": null,
   "metadata": {},
   "outputs": [],
   "source": [
    "# As vezes quando não conseguimos acessar um elemento, ele pode estar dentro de uma TAG Iframe\n",
    "driver = webdriver.driver()\n",
    "iframe_name_or_id = 'frame_dados_cliente'\n",
    "# quando o iframe possui nome ou id, utilize assim:\n",
    "driver.switch_to.frame(iframe_name_or_id)\n",
    "\n",
    "# quando o iframe não possui identificação no código, utilize assim:\n",
    "seletor = driver.find_element(By.TAG_NAME, 'iframe')\n",
    "driver.switch_to.frame(seletor)\n",
    "\n",
    "# pelo o indice do iframe iniciando pelo 1\n",
    "driver.switch_to.frame(1)\n",
    "\n",
    "# Interagir com outra janela do browser ou popup\n",
    "janela2 = driver.window_handles[1]\n",
    "driver.switch_to.window(janela2)\n",
    "\n",
    "janela3 = driver.window_handles[2]\n",
    "driver.switch_to.window(janela3)\n",
    "\n",
    "# voltar para a janela inicial, primeira janela do site\n",
    "janela1 = driver.window_handles[0]\n",
    "driver.switch_to.window(janela1)\n"
   ]
  },
  {
   "attachments": {},
   "cell_type": "markdown",
   "metadata": {},
   "source": [
    "### Utilizando Ancoras"
   ]
  },
  {
   "cell_type": "code",
   "execution_count": 1,
   "metadata": {},
   "outputs": [],
   "source": [
    "# Localizar a TAG_NAME de um elemento próximo, com base na posição de um elemento confiável.\n",
    "# https://www.selenium.dev/pt-br/documentation/webdriver/elements/locators/\n",
    "# https://saucelabs.com/resources/articles/selenium-4-relative-locators\n",
    "from selenium import webdriver\n",
    "from selenium.webdriver.support.relative_locator import locate_with\n",
    "from selenium.webdriver.common.by import By\n",
    "\n",
    "driver = webdriver.Edge(r'C:\\Temp\\Python\\msedgedriver.exe')\n",
    "driver.get('http://google.com')\n",
    "\n",
    "# Neste exemplo a ancora é o botao \"estou com sorte\"\n",
    "# Vamos pedir para clicar na tagname 'input' (above) acima da posicao do btn \"estou com sorte\"\n",
    "ancora = {By.XPATH:\"//form/div[1]/div[1]/div[4]/center/input[2]\"}\n",
    "locator = locate_with(By.TAG_NAME,'input').above(ancora)\n",
    "lista = driver.find_element(locator)\n",
    "lista.click()\n",
    "\n",
    "\n",
    "# Neste exemplo a ancora é o botao \"estou com sorte\"\n",
    "# Vamos pedir para clicar na tagname 'input' (to_left_of) a esquerda da posicao do btn \"estou com sorte\"\n",
    "ancora = {By.XPATH:\"//form/div[1]/div[1]/div[4]/center/input[2]\"}\n",
    "locator = locate_with(By.TAG_NAME,'input').to_left_of(ancora)\n",
    "lista = driver.find_element(locator)\n",
    "lista.click()\n",
    "\n",
    "\n",
    "# Essa funcionalidade traz uma nova maneira de localizar elementos \n",
    "# para ajudá-lo a encontrar aqueles que estão próximos a outros elementos. \n",
    "# Os localizadores disponíveis são:\n",
    "\n",
    "# above --> acima\n",
    "# below --> abaixo\n",
    "# to_left_of --> a esquerda\n",
    "# to_right_of --> a direita\n",
    "# near --> próximo\n",
    "ancora = {By.XPATH:\"//form/div[1]/div[1]/div[4]/center/input[2]\"}\n",
    "\n",
    "locator = locate_with(By.TAG_NAME,'input').above(ancora)\n",
    "locator = locate_with(By.TAG_NAME,'input').below(ancora)\n",
    "locator = locate_with(By.TAG_NAME,'input').to_left_of(ancora)\n",
    "locator = locate_with(By.TAG_NAME,'input').to_right_of(ancora)\n",
    "locator = locate_with(By.TAG_NAME,'input').near(ancora)\n",
    "\n",
    "lista = driver.find_element(locator)\n",
    "lista.click()"
   ]
  }
 ],
 "metadata": {
  "kernelspec": {
   "display_name": "Python 3",
   "language": "python",
   "name": "python3"
  },
  "language_info": {
   "codemirror_mode": {
    "name": "ipython",
    "version": 3
   },
   "file_extension": ".py",
   "mimetype": "text/x-python",
   "name": "python",
   "nbconvert_exporter": "python",
   "pygments_lexer": "ipython3",
   "version": "3.8.2 (tags/v3.8.2:7b3ab59, Feb 25 2020, 23:03:10) [MSC v.1916 64 bit (AMD64)]"
  },
  "orig_nbformat": 4,
  "vscode": {
   "interpreter": {
    "hash": "9650cb4e16cdd4a8e8e2d128bf38d875813998db22a3c986335f89e0cb4d7bb2"
   }
  }
 },
 "nbformat": 4,
 "nbformat_minor": 2
}
