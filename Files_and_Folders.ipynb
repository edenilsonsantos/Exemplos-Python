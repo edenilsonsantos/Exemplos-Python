{
 "cells": [
  {
   "attachments": {},
   "cell_type": "markdown",
   "metadata": {},
   "source": [
    "# Arquivos e Pastas"
   ]
  },
  {
   "attachments": {},
   "cell_type": "markdown",
   "metadata": {},
   "source": [
    "### Ler e escrever em arquivos"
   ]
  },
  {
   "cell_type": "code",
   "execution_count": 19,
   "metadata": {},
   "outputs": [
    {
     "name": "stdout",
     "output_type": "stream",
     "text": [
     ]
    }
   ],
   "source": [
    "# ler um arquivo, gerando string com todo conteúdo\n",
    "file = open('c:\\\\temp\\\\hostnames.txt', 'r')\n",
    "texto = file.read()\n",
    "print(texto)\n",
    "file.close()\n",
    "\n",
    "# ler um arquivo, gerando lista contendo o valor de cada linha\n",
    "file = open('c:\\\\temp\\\\hostnames.txt', 'r', encoding='utf-8')\n",
    "texto = file.readlines()\n",
    "print(texto)\n",
    "file.close()\n",
    "\n",
    "# escrever um arquivo novo, ou subscrever todo conteudo de um arquivo\n",
    "file = open('c:\\\\temp\\\\hostnames.txt', 'w')\n",
    "hostname = 'LT101010AA'\n",
    "file.write(hostname)\n",
    "file.close()\n",
    "\n",
    "\n",
    "# escrever em arquivo existente, add valor em nova linha\n",
    "file = open('c:\\\\temp\\\\hostnames.txt', 'a')\n",
    "hostname = 'LT202020BB'\n",
    "file.write('\\n' + hostname)\n",
    "file.close()\n",
    "\n",
    "# ler um arquivo, gerando string com todo conteúdo\n",
    "file = open('c:\\\\temp\\\\hostnames.txt', 'r')\n",
    "texto = file.read()\n",
    "print(texto)\n",
    "file.close()\n"
   ]
  },
  {
   "attachments": {},
   "cell_type": "markdown",
   "metadata": {},
   "source": [
    "### Localizar arquivos em pasta"
   ]
  },
  {
   "cell_type": "code",
   "execution_count": 54,
   "metadata": {},
   "outputs": [
    {
     "name": "stdout",
     "output_type": "stream",
     "text": [
      "\n",
      "\n"
     ]
    }
   ],
   "source": [
    "# Importar a biblioteca e definir o caminho da pasta\n",
    "import os\n",
    "import pathlib\n",
    "folder_path = 'c:\\\\temp\\\\img\\\\'\n",
    "\n",
    "# ler e imprimir todos arquivos e pastas, dentro de 'c:\\temp\\img\\'\n",
    "def read_directory(path):\n",
    "    arquivos = os.listdir(path)\n",
    "    for arquivo in arquivos:\n",
    "        print(arquivo)\n",
    "    \n",
    "read_directory(folder_path) \n",
    "print()  \n",
    "\n",
    "\n",
    "# ler e imprimir todos arquivos cujo nomes iniciam com lote, e extensao csv.\n",
    "# e estejam dentro da pasta 'c:\\temp\\img\\'\n",
    "def loc_especific_file(path):\n",
    "    files = pathlib.Path(path).glob('lote*.csv')\n",
    "    # files = pathlib.Path(path).glob('tela*.*')\n",
    "    # files = pathlib.Path(path).glob('*.*')\n",
    "    # files = pathlib.Path(path).glob('*.xlsx')\n",
    "    for file in files:\n",
    "        print(file)\n",
    "        \n",
    "loc_especific_file(folder_path)\n",
    "print()\n",
    "\n",
    "\n",
    "# ler e imprimir todos arquivos, dentro da pasta e subpastas\n",
    "def read_directory_and_sub(path):\n",
    "    for p, _, files in os.walk(os.path.abspath(path)):\n",
    "        for file in files:\n",
    "            print(os.path.join(p, file))\n",
    "\n",
    "read_directory_and_sub(folder_path)\n",
    "print()\n",
    "\n",
    "\n",
    "\n",
    "# ler e excluir todos arquivos e pastas, dentro de 'c:\\temp\\img\\'\n",
    "def delete_files_in_directory(path):\n",
    "    arquivos = pathlib.Path(path).glob('*.*')\n",
    "    for arquivo in arquivos:\n",
    "        os.remove(arquivo)\n",
    "        print('excluido o arquivo: ', arquivo)\n",
    "    \n",
    "delete_files_in_directory(folder_path) \n",
    "print()  "
   ]
  }
 ],
 "metadata": {
  "kernelspec": {
   "display_name": "Python 3",
   "language": "python",
   "name": "python3"
  },
  "language_info": {
   "codemirror_mode": {
    "name": "ipython",
    "version": 3
   },
   "file_extension": ".py",
   "mimetype": "text/x-python",
   "name": "python",
   "nbconvert_exporter": "python",
   "pygments_lexer": "ipython3",
   "version": "3.8.2 (tags/v3.8.2:7b3ab59, Feb 25 2020, 23:03:10) [MSC v.1916 64 bit (AMD64)]"
  },
  "orig_nbformat": 4,
  "vscode": {
   "interpreter": {
    "hash": "9650cb4e16cdd4a8e8e2d128bf38d875813998db22a3c986335f89e0cb4d7bb2"
   }
  }
 },
 "nbformat": 4,
 "nbformat_minor": 2
}
