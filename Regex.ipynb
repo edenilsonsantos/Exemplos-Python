{
 "cells": [
  {
   "attachments": {},
   "cell_type": "markdown",
   "metadata": {},
   "source": [
    "# Expressões regulares - regex"
   ]
  },
  {
   "attachments": {},
   "cell_type": "markdown",
   "metadata": {},
   "source": [
    "### Filtrar o padrao de 6 números, para obter o id"
   ]
  },
  {
   "cell_type": "code",
   "execution_count": 77,
   "metadata": {},
   "outputs": [
    {
     "name": "stdout",
     "output_type": "stream",
     "text": [
      "id: 213152\n"
     ]
    }
   ],
   "source": [
    "import re\n",
    "texto = 'id: 213152 - 14/01/2023 - josiel da silva - conta corrente 12355-1 cpf 111.222.333-77 '\n",
    "result_lista = re.findall('\\d{6}', texto)\n",
    "print('id:', result_lista[0])"
   ]
  },
  {
   "attachments": {},
   "cell_type": "markdown",
   "metadata": {},
   "source": [
    "### Filtrar padrao de 5 números traço e mais 1 numero, para obter a conta"
   ]
  },
  {
   "cell_type": "code",
   "execution_count": 78,
   "metadata": {},
   "outputs": [
    {
     "name": "stdout",
     "output_type": "stream",
     "text": [
      "conta: 12355-1\n"
     ]
    }
   ],
   "source": [
    "import re\n",
    "texto = 'id: 213152 - 14/01/2023 - josiel da silva - conta corrente 12355-1 cpf 111.222.333-77 '\n",
    "result_lista = re.findall('\\d{5}-\\d', texto)\n",
    "print('conta:', result_lista[0])"
   ]
  },
  {
   "attachments": {},
   "cell_type": "markdown",
   "metadata": {},
   "source": [
    "### Filtrar o padrao para obter o cpf"
   ]
  },
  {
   "cell_type": "code",
   "execution_count": 1,
   "metadata": {},
   "outputs": [
    {
     "name": "stdout",
     "output_type": "stream",
     "text": [
      "cpf: ['111.222.333-77', '22255599982']\n"
     ]
    }
   ],
   "source": [
    "import re\n",
    "# neste exemplo procuro cfp com os separadores, ou um numero corrido de 11 digitos\n",
    "texto = 'josiel da silva - conta 12355-1 cpf 111.222.333-77 cpf conjugue 22255599982'\n",
    "result_lista = re.findall('\\d{1,3}[.]\\d{3}[.]\\d{3}-\\d{2}|\\d{11}', texto)\n",
    "print('cpf:', result_lista)\n"
   ]
  },
  {
   "attachments": {},
   "cell_type": "markdown",
   "metadata": {},
   "source": [
    "### Filtrar o que está entre 2 valores fixos "
   ]
  },
  {
   "cell_type": "code",
   "execution_count": 80,
   "metadata": {},
   "outputs": [
    {
     "name": "stdout",
     "output_type": "stream",
     "text": [
      "nome: josiel da silva\n"
     ]
    }
   ],
   "source": [
    "### por exemplo para capturar o nome\n",
    "import re\n",
    "texto = 'id: 213152 - 14/01/2023 - josiel da silva - conta corrente 12355-1 cpf 111.222.333-77 '\n",
    "result_lista = re.findall('((?<=2023 - ).*?(?= - conta corrente))', texto)\n",
    "print('nome:', result_lista[0])"
   ]
  },
  {
   "attachments": {},
   "cell_type": "markdown",
   "metadata": {},
   "source": [
    "### Filtrar datas"
   ]
  },
  {
   "cell_type": "code",
   "execution_count": 81,
   "metadata": {},
   "outputs": [
    {
     "name": "stdout",
     "output_type": "stream",
     "text": [
      "datas: ['14/01/2023', '15.01.2023', '16-01-2023']\n",
      "datas: ['14/01/2023', '15.01.2023', '16-01-2023']\n",
      "datas: ['14/01/2023', '15.01.2023', '16-01-2023']\n",
      "datas: ['14/01/2023', '15.01.2023', '16-01-2023']\n"
     ]
    }
   ],
   "source": [
    "import re\n",
    "# neste exemplo procuro por data dd mm aaaa, com separadores \"/\" ou \".\" ou \"-\"\n",
    "texto = '14/01/2023 - josiel 15.01.2023 - 16-01-2023 - conta corrente 12355-1 cpf 111.222.333-77 '\n",
    "result_lista = re.findall('\\d{2}/\\d{2}/\\d{4}|\\d{2}-\\d{2}-\\d{4}|\\d{2}\\.\\d{2}\\.\\d{4}', texto)\n",
    "print('datas:', result_lista)\n",
    "\n",
    "# outra forma de obter o mesmo resultado\n",
    "texto = '14/01/2023 - josiel 15.01.2023 - 16-01-2023 - conta corrente 12355-1 cpf 111.222.333-77 '\n",
    "result_lista = re.findall('\\d{2}/?\\.?-?\\d{2}/?\\.?-?\\d{4}', texto)\n",
    "print('datas:', result_lista)\n",
    "\n",
    "# outra forma de obter o mesmo resultado\n",
    "texto = '14/01/2023 - josiel 15.01.2023 - 16-01-2023 - conta corrente 12355-1 cpf 111.222.333-77 '\n",
    "result_lista = re.findall('\\d{2}[./-]\\d{2}[./-]\\d{4}', texto)\n",
    "print('datas:', result_lista)\n",
    "\n",
    "\n",
    "# outra forma de obter o mesmo resultado\n",
    "texto = '14/01/2023 - josiel 15.01.2023 - 16-01-2023 - conta corrente 12355-1 cpf 111.222.333-77 '\n",
    "result_lista = re.findall('\\d\\d[./-]\\d\\d[./-]\\d\\d\\d\\d', texto)\n",
    "print('datas:', result_lista)"
   ]
  },
  {
   "attachments": {},
   "cell_type": "markdown",
   "metadata": {},
   "source": [
    "### Evitando erros, Verificar antes de filtrar"
   ]
  },
  {
   "cell_type": "code",
   "execution_count": 82,
   "metadata": {},
   "outputs": [
    {
     "name": "stdout",
     "output_type": "stream",
     "text": [
      "deu math!!!\n",
      "datas: ['14/01/2023', '15.01.2023', '16-01-2023']\n",
      "\n",
      "resultado vazio\n"
     ]
    }
   ],
   "source": [
    "# Eh uma boa pratica verificar se a consulta deu math\n",
    "# Pois se retornar vazio, vai resultar em erro.\n",
    "import re\n",
    "texto = '14/01/2023 - josiel 15.01.2023 - 16-01-2023 - conta corrente 12355-1 cpf 111.222.333-77 '\n",
    "deu_math = re.match('\\d{2}[./-]\\d{2}[./-]\\d{4}', texto)\n",
    "if deu_math:\n",
    "    print('deu math!!!')\n",
    "    result_lista = re.findall('\\d{2}[./-]\\d{2}[./-]\\d{4}', texto)\n",
    "    print('datas:', result_lista)\n",
    "else:\n",
    "    print('resultado vazio')\n",
    "    \n",
    "############### e caso nao encontre, pois a data esta em formato diferente \n",
    "print()  \n",
    "texto = '14012023 - josiel 15-01-23 - 16/01/23 - conta corrente 12355-1 cpf 111.222.333-77 '\n",
    "deu_math = re.match('\\d{2}[./-]\\d{2}[./-]\\d{4}', texto)\n",
    "if deu_math:\n",
    "    print('deu math!!!')\n",
    "    result_lista = re.findall('\\d{2}[./-]\\d{2}[./-]\\d{4}', texto)\n",
    "    print('datas:', result_lista)\n",
    "else:\n",
    "    print('resultado vazio')\n",
    "\n"
   ]
  },
  {
   "cell_type": "code",
   "execution_count": null,
   "metadata": {},
   "outputs": [],
   "source": []
  }
 ],
 "metadata": {
  "kernelspec": {
   "display_name": "Python 3",
   "language": "python",
   "name": "python3"
  },
  "language_info": {
   "codemirror_mode": {
    "name": "ipython",
    "version": 3
   },
   "file_extension": ".py",
   "mimetype": "text/x-python",
   "name": "python",
   "nbconvert_exporter": "python",
   "pygments_lexer": "ipython3",
   "version": "3.8.2"
  },
  "orig_nbformat": 4,
  "vscode": {
   "interpreter": {
    "hash": "9650cb4e16cdd4a8e8e2d128bf38d875813998db22a3c986335f89e0cb4d7bb2"
   }
  }
 },
 "nbformat": 4,
 "nbformat_minor": 2
}
